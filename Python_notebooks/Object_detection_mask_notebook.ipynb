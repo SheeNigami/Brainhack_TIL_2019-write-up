{
  "nbformat": 4,
  "nbformat_minor": 0,
  "metadata": {
    "colab": {
      "name": "Object_detection/mask_notebook.ipynb",
      "version": "0.3.2",
      "provenance": [],
      "toc_visible": true
    },
    "kernelspec": {
      "name": "python3",
      "display_name": "Python 3"
    }
  },
  "cells": [
    {
      "cell_type": "markdown",
      "metadata": {
        "id": "NMB_OwK6rfy3",
        "colab_type": "text"
      },
      "source": [
        "# My experimentation to incoperate object detection into our model\n",
        "\n",
        "This notebook was one of the ways I tried to improve our model's accuracy. My thought was that if we could crop the person/people doing the poses, then we could reduce the noise in the images our CNN model had to classify.\n",
        "\n",
        "There were a few challenges that came up as I tried to implement this into our pipeline to generate a model to classify the poses.  \n",
        "You can read more about this at the bottom of the notebook.  \n",
        "\n",
        "Note: All credit goes to this person github repo for providing for whatever I used in this notebook. I could not really remember where I got the rest of the code from, I'll update this notebook if I ever find out.  \n",
        "\n",
        "If you are looking for the benchmark models notebook or what the team did for the final model, please look for those notebooks respectively.\n",
        "\n",
        "\n",
        "---"
      ]
    },
    {
      "cell_type": "markdown",
      "metadata": {
        "id": "oID_pzlbtS36",
        "colab_type": "text"
      },
      "source": [
        "# Setting up the notebook\n",
        "\n",
        "This section will cover setting up the notebook with the repo"
      ]
    },
    {
      "cell_type": "markdown",
      "metadata": {
        "id": "RxYBcTqlvDi_",
        "colab_type": "text"
      },
      "source": [
        "Mounting google drive into the notebook"
      ]
    },
    {
      "cell_type": "code",
      "metadata": {
        "id": "r6Tf08IqqF_K",
        "colab_type": "code",
        "colab": {}
      },
      "source": [
        "from google.colab import drive\n",
        "drive.mount('/content/gdrive')"
      ],
      "execution_count": 0,
      "outputs": []
    },
    {
      "cell_type": "markdown",
      "metadata": {
        "id": "8-OrX4gXvKLV",
        "colab_type": "text"
      },
      "source": [
        "Cloning the github repo and setting up the directory required to run the set_up.py"
      ]
    },
    {
      "cell_type": "code",
      "metadata": {
        "id": "p-IiOYn1vb6F",
        "colab_type": "code",
        "colab": {}
      },
      "source": [
        "!git clone https://github.com/matterport/Mask_RCNN.git"
      ],
      "execution_count": 0,
      "outputs": []
    },
    {
      "cell_type": "code",
      "metadata": {
        "id": "Y7m81sD-vd6H",
        "colab_type": "code",
        "colab": {}
      },
      "source": [
        "%cd {\"Mask_RCNN\"}\n",
        "!python setup.py install"
      ],
      "execution_count": 0,
      "outputs": []
    },
    {
      "cell_type": "markdown",
      "metadata": {
        "id": "tT_xjRUivhGj",
        "colab_type": "text"
      },
      "source": [
        "To check if the repo/module is properly installed.(I'm  not reallys sure what to call this)"
      ]
    },
    {
      "cell_type": "code",
      "metadata": {
        "id": "BqXFbuqUvr8q",
        "colab_type": "code",
        "colab": {}
      },
      "source": [
        "!pip show mask-rcnn"
      ],
      "execution_count": 0,
      "outputs": []
    },
    {
      "cell_type": "markdown",
      "metadata": {
        "id": "qt_k09Q2vuPK",
        "colab_type": "text"
      },
      "source": [
        "# Loading the model and running first test\n",
        "\n",
        "This is to load the model into the notebook, and test it on one picture.  \n",
        "The next section will cover how to load in more images quickly.\n"
      ]
    },
    {
      "cell_type": "markdown",
      "metadata": {
        "id": "VuNaMjEOxJGS",
        "colab_type": "text"
      },
      "source": [
        "This block of code will load in the pre-trained weights for the mask-rcnn model.  \n",
        "This block will also test out the model by running it on one picture and generating the mask onto of the picture.  \n",
        "\n",
        "Things to note:\n",
        "\n",
        "* The reason I made this its own section is due to the long time taken to load the weights, so do not worry if this block takes a while to load.\n",
        "\n",
        "* Make sure the directories lead to the proper files, look out for the comment I made in the code."
      ]
    },
    {
      "cell_type": "code",
      "metadata": {
        "id": "N-lbFMvWwhPP",
        "colab_type": "code",
        "colab": {}
      },
      "source": [
        "# example of inference with a pre-trained coco model\n",
        "from keras.preprocessing.image import load_img\n",
        "from keras.preprocessing.image import img_to_array\n",
        "from mrcnn.config import Config\n",
        "from mrcnn.model import MaskRCNN\n",
        "from matplotlib import pyplot\n",
        "from matplotlib.patches import Rectangle\n",
        "# example of inference with a pre-trained coco model\n",
        "from keras.preprocessing.image import load_img\n",
        "from keras.preprocessing.image import img_to_array\n",
        "from mrcnn.visualize import display_instances\n",
        "from mrcnn.config import Config\n",
        "from mrcnn.model import MaskRCNN\n",
        " \n",
        "class_names = ['BG', 'person', 'bicycle', 'car', 'motorcycle', 'airplane',\n",
        "             'bus', 'train', 'truck', 'boat', 'traffic light',\n",
        "             'fire hydrant', 'stop sign', 'parking meter', 'bench', 'bird',\n",
        "             'cat', 'dog', 'horse', 'sheep', 'cow', 'elephant', 'bear',\n",
        "             'zebra', 'giraffe', 'backpack', 'umbrella', 'handbag', 'tie',\n",
        "             'suitcase', 'frisbee', 'skis', 'snowboard', 'sports ball',\n",
        "             'kite', 'baseball bat', 'baseball glove', 'skateboard',\n",
        "             'surfboard', 'tennis racket', 'bottle', 'wine glass', 'cup',\n",
        "             'fork', 'knife', 'spoon', 'bowl', 'banana', 'apple',\n",
        "             'sandwich', 'orange', 'broccoli', 'carrot', 'hot dog', 'pizza',\n",
        "             'donut', 'cake', 'chair', 'couch', 'potted plant', 'bed',\n",
        "             'dining table', 'toilet', 'tv', 'laptop', 'mouse', 'remote',\n",
        "             'keyboard', 'cell phone', 'microwave', 'oven', 'toaster',\n",
        "             'sink', 'refrigerator', 'book', 'clock', 'vase', 'scissors',\n",
        "             'teddy bear', 'hair drier', 'toothbrush']\n",
        "  \n",
        "# draw an image with detected objects\n",
        "def draw_image_with_boxes(filename, boxes_list):\n",
        "     # load the image\n",
        "     data = pyplot.imread(filename)\n",
        "     # plot the image\n",
        "     pyplot.imshow(data)\n",
        "     # get the context for drawing boxes\n",
        "     ax = pyplot.gca()\n",
        "     # plot each box\n",
        "     for box in boxes_list:\n",
        "          # get coordinates\n",
        "          y1, x1, y2, x2 = box\n",
        "          # calculate width and height of the box\n",
        "          width, height = x2 - x1, y2 - y1\n",
        "          # create the shape\n",
        "          rect = Rectangle((x1, y1), width, height, fill=False, color='red')\n",
        "          # draw the box\n",
        "          ax.add_patch(rect)\n",
        "     # show the plot\n",
        "     pyplot.show()\n",
        " \n",
        "# define the test configuration\n",
        "class TestConfig(Config):\n",
        "     NAME = \"test\"\n",
        "     GPU_COUNT = 1\n",
        "     IMAGES_PER_GPU = 1\n",
        "     NUM_CLASSES = 1 + 80\n",
        " \n",
        "# define the model\n",
        "# change the dirs under here based on how your files are structured. Make sure they are leading to their respective files\n",
        "rcnn = MaskRCNN(mode='inference', model_dir='./', config=TestConfig())\n",
        "# load coco model weights\n",
        "rcnn.load_weights('/content/gdrive/My Drive/DSTA/mask_rcnn_coco.h5', by_name=True)\n",
        "# load photograph\n",
        "img = load_img('/content/gdrive/My Drive/DSTA/dataset/train_ver 1.0/data/ChairPose/013283_102.png')\n",
        "img = img_to_array(img)\n",
        "# make prediction\n",
        "results = rcnn.detect([img], verbose=0)\n",
        "# visualize the results\n",
        "draw_image_with_boxes('/content/gdrive/My Drive/DSTA/dataset/train_ver 1.0/data/ChairPose/013283_102.png', results[0]['rois'])\n",
        "# get dictionary for first prediction\n",
        "r = results[0]\n",
        "# show photo with bounding boxes, masks, class labels and scores\n",
        "display_instances(img, r['rois'], r['masks'], r['class_ids'], class_names, r['scores'])"
      ],
      "execution_count": 0,
      "outputs": []
    },
    {
      "cell_type": "markdown",
      "metadata": {
        "id": "OIEapJlLxEou",
        "colab_type": "text"
      },
      "source": [
        "# Testing with more pictures\n",
        "\n",
        "This section will cover how to load in more of your own pictures and generate the mask on top of the pictures."
      ]
    },
    {
      "cell_type": "markdown",
      "metadata": {
        "id": "lbCWkWAEycRd",
        "colab_type": "text"
      },
      "source": [
        "Things to note:\n",
        "\n",
        "* Same as before, make sure the directories lead to the correct files.\n"
      ]
    },
    {
      "cell_type": "code",
      "metadata": {
        "id": "lao4IQn8yRVV",
        "colab_type": "code",
        "colab": {}
      },
      "source": [
        "# make sure the directories are correct\n",
        "img = load_img('/content/gdrive/My Drive/DSTA/dataset/train_ver 1.0/data/HandGun/073071_51.png')\n",
        "img = img_to_array(img)\n",
        "# make prediction\n",
        "results = rcnn.detect([img], verbose=0)\n",
        "# visualize the results\n",
        "draw_image_with_boxes('/content/gdrive/My Drive/DSTA/dataset/train_ver 1.0/data/HandGun/073071_51.png', results[0]['rois'])\n",
        "# get dictionary for first prediction\n",
        "r = results[0]\n",
        "# show photo with bounding boxes, masks, class labels and scores\n",
        "display_instances(img, r['rois'], r['masks'], r['class_ids'], class_names, r['scores'])"
      ],
      "execution_count": 0,
      "outputs": []
    },
    {
      "cell_type": "markdown",
      "metadata": {
        "id": "L3VtSdb6y568",
        "colab_type": "text"
      },
      "source": [
        "# That's it\n",
        "\n",
        "This was as far as I got to trying to implement the model into our team's pipeline.  \n",
        "\n",
        "For me, this was pretty exciting to try and do as this was also my first time dealing with object detection as well as working extensively with images in python.  \n",
        "I hope this notebook helps you to atleast start using object detection.\n",
        "\n",
        "Some problems I encountered specific to our challenge of identifying poses:\n",
        "\n",
        "* Some poses only showed the hands of the humans, such as handshake and handguns(to name a few).\n",
        "\n",
        "* Some poses also required 2 people, such as chestbump\n",
        "\n",
        "* Some data also had people in the background which were not part of the pose."
      ]
    }
  ]
}