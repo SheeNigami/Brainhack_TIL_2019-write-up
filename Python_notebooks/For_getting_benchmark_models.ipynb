{
  "nbformat": 4,
  "nbformat_minor": 0,
  "metadata": {
    "colab": {
      "name": "For_getting_benchmark_models.ipynb",
      "version": "0.3.2",
      "provenance": [],
      "toc_visible": true
    },
    "kernelspec": {
      "name": "python3",
      "display_name": "Python 3"
    },
    "accelerator": "GPU"
  },
  "cells": [
    {
      "cell_type": "markdown",
      "metadata": {
        "id": "9s8tbF4VvjPh",
        "colab_type": "text"
      },
      "source": [
        "# Getting Benchmark models from Keras\n",
        "\n",
        "This notebook contains the code in which I used to get my benchmarks models to compare their initial accuracy.  \n",
        "I did this by comparing their validation accuracy after 40 epochs with the same top layers.  \n",
        "This was to see which pre-trained model arcitecture was best suited for this pose classification challenge.  \n",
        "\n",
        "**Note: Set your google colab runtime type to GPU(You can thank me later :p)**\n",
        " \n",
        " Side note: This is the notebook I (mostly) used when first trying to get a benchmark on which architecture/model would perform the best for this challenge. (My original code was much more messy)  \n",
        " \n",
        " If you are looking for the object detection notebook or what the team did for the final model, please look for those notebooks respectively.\n",
        "\n",
        "---"
      ]
    },
    {
      "cell_type": "markdown",
      "metadata": {
        "id": "wCV6rugy2fWo",
        "colab_type": "text"
      },
      "source": [
        "# Setting up the notebook\n",
        "\n",
        "Setting up the main directories and importing the libraries.  \n",
        "\n",
        "Also setting up the images used to train the models."
      ]
    },
    {
      "cell_type": "markdown",
      "metadata": {
        "id": "AzVVp5K9xOhK",
        "colab_type": "text"
      },
      "source": [
        "To link google drive with dataset to google colab.  \n",
        "For anyone else following along in the code, you have to somehow upload or link your own dataset into the google colab. (Just Google around)"
      ]
    },
    {
      "cell_type": "code",
      "metadata": {
        "id": "URExud35vcmP",
        "colab_type": "code",
        "outputId": "2a6bbd83-2d91-4f7b-98f7-f30f57609e23",
        "colab": {
          "base_uri": "https://localhost:8080/",
          "height": 121
        }
      },
      "source": [
        "from google.colab import drive\n",
        "drive.mount('/content/gdrive')"
      ],
      "execution_count": 0,
      "outputs": [
        {
          "output_type": "stream",
          "text": [
            "Go to this URL in a browser: https://accounts.google.com/o/oauth2/auth?client_id=947318989803-6bn6qk8qdgf4n4g3pfee6491hc0brc4i.apps.googleusercontent.com&redirect_uri=urn%3Aietf%3Awg%3Aoauth%3A2.0%3Aoob&scope=email%20https%3A%2F%2Fwww.googleapis.com%2Fauth%2Fdocs.test%20https%3A%2F%2Fwww.googleapis.com%2Fauth%2Fdrive%20https%3A%2F%2Fwww.googleapis.com%2Fauth%2Fdrive.photos.readonly%20https%3A%2F%2Fwww.googleapis.com%2Fauth%2Fpeopleapi.readonly&response_type=code\n",
            "\n",
            "Enter your authorization code:\n",
            "··········\n",
            "Mounted at /content/gdrive\n"
          ],
          "name": "stdout"
        }
      ]
    },
    {
      "cell_type": "markdown",
      "metadata": {
        "id": "vjmTdSG2xpeB",
        "colab_type": "text"
      },
      "source": [
        "Importing modules that we are using later on, (Not really sure if all was used, but I'm to lazy to check. Since this takes less than 10 seconds, it should not affect the speed of the notebook in any impactful way)"
      ]
    },
    {
      "cell_type": "code",
      "metadata": {
        "id": "xEWJonHVxifl",
        "colab_type": "code",
        "colab": {}
      },
      "source": [
        "# numpy\n",
        "import numpy as np\n",
        "# matplotlib\n",
        "import matplotlib.pyplot as plt\n",
        "# scikit-learn\n",
        "from sklearn.metrics import classification_report, confusion_matrix, accuracy_score\n",
        "# keras\n",
        "import keras\n",
        "from keras import backend as K\n",
        "from keras.preprocessing.image import ImageDataGenerator\n",
        "from keras.models import Model\n",
        "from keras.layers import Input, Conv2D, BatchNormalization, Activation, GlobalAveragePooling2D, Dense, Dropout, MaxPooling2D\n",
        "from keras import applications\n",
        "from keras.preprocessing.image import ImageDataGenerator\n",
        "from keras import optimizers\n",
        "from keras.models import Sequential, Model \n",
        "from keras.layers import Dropout, Flatten, Dense, GlobalAveragePooling2D\n",
        "from keras import backend as k \n",
        "from keras.callbacks import ModelCheckpoint, LearningRateScheduler, TensorBoard, EarlyStopping\n"
      ],
      "execution_count": 0,
      "outputs": []
    },
    {
      "cell_type": "markdown",
      "metadata": {
        "id": "DwVnBmlIyDkW",
        "colab_type": "text"
      },
      "source": [
        "Setting up the directories to the dataset in colab.  \n",
        "For anyone with different directories in colab, you **will have to change this according to your colab files**"
      ]
    },
    {
      "cell_type": "code",
      "metadata": {
        "id": "biHRCYKsyG66",
        "colab_type": "code",
        "outputId": "975e2da1-2297-4f85-cf50-f6a545eb1971",
        "colab": {
          "base_uri": "https://localhost:8080/",
          "height": 588
        }
      },
      "source": [
        "import os\n",
        "\n",
        "# Base directory has to be changed here\n",
        "base_dir = 'gdrive/My Drive/Brainhack_TIL_2019_Final/Dataset'\n",
        "\n",
        "# Directory to our training data\n",
        "train_folder = os.path.join(base_dir, 'train')\n",
        "\n",
        "# Directory to our validation data\n",
        "val_folder = os.path.join(base_dir, 'val')\n",
        "\n",
        "\n",
        "# List folders and number of files\n",
        "print(\"Directory, Number of files\")\n",
        "for root, subdirs, files in os.walk(base_dir):\n",
        "    print(root, len(files))"
      ],
      "execution_count": 0,
      "outputs": [
        {
          "output_type": "stream",
          "text": [
            "Directory, Number of files\n",
            "gdrive/My Drive/Brainhack_TIL_2019_Final/Dataset 0\n",
            "gdrive/My Drive/Brainhack_TIL_2019_Final/Dataset/val 0\n",
            "gdrive/My Drive/Brainhack_TIL_2019_Final/Dataset/val/EaglePose 27\n",
            "gdrive/My Drive/Brainhack_TIL_2019_Final/Dataset/val/ChestBump 17\n",
            "gdrive/My Drive/Brainhack_TIL_2019_Final/Dataset/val/ChildPose 22\n",
            "gdrive/My Drive/Brainhack_TIL_2019_Final/Dataset/val/Dabbing 23\n",
            "gdrive/My Drive/Brainhack_TIL_2019_Final/Dataset/val/ChairPose 23\n",
            "gdrive/My Drive/Brainhack_TIL_2019_Final/Dataset/val/Spiderman 26\n",
            "gdrive/My Drive/Brainhack_TIL_2019_Final/Dataset/val/HandGun 26\n",
            "gdrive/My Drive/Brainhack_TIL_2019_Final/Dataset/val/WarriorPose 22\n",
            "gdrive/My Drive/Brainhack_TIL_2019_Final/Dataset/val/KungfuSalute 25\n",
            "gdrive/My Drive/Brainhack_TIL_2019_Final/Dataset/val/Salute 24\n",
            "gdrive/My Drive/Brainhack_TIL_2019_Final/Dataset/val/KoreanHeart 22\n",
            "gdrive/My Drive/Brainhack_TIL_2019_Final/Dataset/val/KungfuCrane 21\n",
            "gdrive/My Drive/Brainhack_TIL_2019_Final/Dataset/val/HulkSmash 24\n",
            "gdrive/My Drive/Brainhack_TIL_2019_Final/Dataset/val/HighKneel 24\n",
            "gdrive/My Drive/Brainhack_TIL_2019_Final/Dataset/val/HandShake 21\n",
            "gdrive/My Drive/Brainhack_TIL_2019_Final/Dataset/train 0\n",
            "gdrive/My Drive/Brainhack_TIL_2019_Final/Dataset/train/HandGun 94\n",
            "gdrive/My Drive/Brainhack_TIL_2019_Final/Dataset/train/ChildPose 81\n",
            "gdrive/My Drive/Brainhack_TIL_2019_Final/Dataset/train/HandShake 83\n",
            "gdrive/My Drive/Brainhack_TIL_2019_Final/Dataset/train/HulkSmash 88\n",
            "gdrive/My Drive/Brainhack_TIL_2019_Final/Dataset/train/HighKneel 96\n",
            "gdrive/My Drive/Brainhack_TIL_2019_Final/Dataset/train/KoreanHeart 87\n",
            "gdrive/My Drive/Brainhack_TIL_2019_Final/Dataset/train/Dabbing 89\n",
            "gdrive/My Drive/Brainhack_TIL_2019_Final/Dataset/train/ChestBump 56\n",
            "gdrive/My Drive/Brainhack_TIL_2019_Final/Dataset/train/ChairPose 89\n",
            "gdrive/My Drive/Brainhack_TIL_2019_Final/Dataset/train/EaglePose 96\n",
            "gdrive/My Drive/Brainhack_TIL_2019_Final/Dataset/train/WarriorPose 93\n",
            "gdrive/My Drive/Brainhack_TIL_2019_Final/Dataset/train/Salute 90\n",
            "gdrive/My Drive/Brainhack_TIL_2019_Final/Dataset/train/Spiderman 101\n",
            "gdrive/My Drive/Brainhack_TIL_2019_Final/Dataset/train/KungfuSalute 92\n",
            "gdrive/My Drive/Brainhack_TIL_2019_Final/Dataset/train/KungfuCrane 88\n"
          ],
          "name": "stdout"
        }
      ]
    },
    {
      "cell_type": "markdown",
      "metadata": {
        "id": "k1OKneLfynBk",
        "colab_type": "text"
      },
      "source": [
        "We will be setting up the image generators that will be feeding the training and validation dataset for the model later on.   \n",
        "\n",
        " Things to take note of here (I had to spend alot of time here as I did not understand what the parameters being passed to the function were):\n",
        " \n",
        "\n",
        "*   Batch size (bs)\n",
        "*   image_size\n",
        "*   params for the ImageDataGenerator\n",
        "\n"
      ]
    },
    {
      "cell_type": "code",
      "metadata": {
        "id": "Ko8X4fw7y220",
        "colab_type": "code",
        "outputId": "65f1c2df-9106-457a-b40d-170b9b4c4d33",
        "colab": {
          "base_uri": "https://localhost:8080/",
          "height": 84
        }
      },
      "source": [
        "# Batch size\n",
        "bs = 32\n",
        "\n",
        "# All images will be resized to this value\n",
        "image_size = (299, 299)\n",
        "\n",
        "# All images will be rescaled by 1./255. We apply data augmentation here.\n",
        "train_datagen = ImageDataGenerator(rescale=1./255,\n",
        "                                   brightness_range= [0.5,1.5],\n",
        "                                   horizontal_flip=True)\n",
        "val_datagen = ImageDataGenerator(rescale=1./255)\n",
        "\n",
        "# Flow training images in batches of 32 using train_datagen generator\n",
        "print(\"Preparing generator for train dataset\")\n",
        "train_generator = train_datagen.flow_from_directory(\n",
        "    directory= train_folder, # This is the source directory for training images \n",
        "    target_size=image_size, # All images will be resized to value set in image_size\n",
        "    batch_size=bs,\n",
        "    class_mode='categorical')\n",
        "\n",
        "# Flow validation images in batches of 32 using val_datagen generator\n",
        "print(\"Preparing generator for validation dataset\")\n",
        "val_generator = val_datagen.flow_from_directory(\n",
        "    directory= val_folder, \n",
        "    target_size=image_size,\n",
        "    batch_size=bs,\n",
        "    class_mode='categorical')"
      ],
      "execution_count": 0,
      "outputs": [
        {
          "output_type": "stream",
          "text": [
            "Preparing generator for train dataset\n",
            "Found 1322 images belonging to 15 classes.\n",
            "Preparing generator for validation dataset\n",
            "Found 347 images belonging to 15 classes.\n"
          ],
          "name": "stdout"
        }
      ]
    },
    {
      "cell_type": "markdown",
      "metadata": {
        "id": "8GVlJzX4znM5",
        "colab_type": "text"
      },
      "source": [
        "Now we are setting up the variables/parameters we will be passing to train our models.  \n",
        "\n",
        "Take note of these variables and change them according to your dataset if you are using your own."
      ]
    },
    {
      "cell_type": "code",
      "metadata": {
        "id": "61S1KFf5zjFt",
        "colab_type": "code",
        "outputId": "5f7ec2a7-a628-406f-f953-c0fe9dad5cdc",
        "colab": {
          "base_uri": "https://localhost:8080/",
          "height": 121
        }
      },
      "source": [
        "# Here we specify the input shape of our data \n",
        "# This should match the size of images ('image_size') along with the number of channels (3)\n",
        "input_shape = (299, 299, 3)\n",
        "\n",
        "# Define the number of classes\n",
        "num_classes = 15\n",
        "\n",
        "# Defining a baseline model. Here we use the [keras functional api](https://keras.io/getting-started/functional-api-guide) to build the model. \n",
        "# TODO: explore different architectures and training schemes\n",
        "input_img = Input(shape=input_shape)"
      ],
      "execution_count": 0,
      "outputs": [
        {
          "output_type": "stream",
          "text": [
            "WARNING: Logging before flag parsing goes to stderr.\n",
            "W0619 04:10:56.972768 140273856550784 deprecation_wrapper.py:119] From /usr/local/lib/python3.6/dist-packages/keras/backend/tensorflow_backend.py:74: The name tf.get_default_graph is deprecated. Please use tf.compat.v1.get_default_graph instead.\n",
            "\n",
            "W0619 04:10:57.015696 140273856550784 deprecation_wrapper.py:119] From /usr/local/lib/python3.6/dist-packages/keras/backend/tensorflow_backend.py:517: The name tf.placeholder is deprecated. Please use tf.compat.v1.placeholder instead.\n",
            "\n"
          ],
          "name": "stderr"
        }
      ]
    },
    {
      "cell_type": "markdown",
      "metadata": {
        "id": "IuUciQce3G8P",
        "colab_type": "text"
      },
      "source": [
        "# Generating the models architecture\n",
        "\n",
        "This section contains the code for generating the architecture of the benchmark models  to see which architecture is best suited for transfer learning."
      ]
    },
    {
      "cell_type": "markdown",
      "metadata": {
        "id": "jvU8wC4Qz5P3",
        "colab_type": "text"
      },
      "source": [
        "I spent most of my time on this notebook below this checkpoint.  \n",
        "\n",
        "From here, I changed the model I was importing from keras and configured it such that the layers frozen and the top of the pre-trained model were removed.  \n",
        "\n",
        "I then added a custom (random) top few layers before the final dense 11 layers to classify them into their respective classes.  \n",
        "\n",
        "Things to note:\n",
        "\n",
        "\n",
        "*   I could not get resnet to work by importing from keras\n",
        "*   I might have missed out some models\n",
        "*   Efficientnet is in the next 2 block, skip it if you are not using effcientnet (It requires a pip-install git from a repo, credit goes to the author of the repo)\n",
        "\n"
      ]
    },
    {
      "cell_type": "code",
      "metadata": {
        "id": "_zAUPKezz_R1",
        "colab_type": "code",
        "outputId": "2c437594-cdbc-4e13-c6f5-1cbf3e158f2f",
        "colab": {
          "base_uri": "https://localhost:8080/",
          "height": 87
        }
      },
      "source": [
        "from keras.applications.xception import Xception\n",
        "from keras.applications.inception_resnet_v2 import InceptionResNetV2\n",
        "from keras.applications.nasnet import NASNetLarge\n",
        "from keras.applications.vgg16 import VGG16\n",
        "from keras.applications.vgg19 import VGG19\n",
        "from keras.applications.resnet50 import ResNet50 \n",
        "# from keras.applications.resNet101 import ResNet101\n",
        "# from keras.applications.resNet152 import ResNet152\n",
        "# from keras.applications.resnet_v2 import ResNet50V2, ResNet101V2, ResNet152V2\n",
        "# from keras.applications.resnext import ResNeXt50, ResNeXt101\n",
        "from keras.applications.inception_v3 import InceptionV3\n",
        "from keras.applications.mobilenet import MobileNet\n",
        "from keras.applications.mobilenet_v2 import MobileNetV2\n",
        "from keras.applications.densenet import DenseNet201\n",
        "\n",
        "model = Xception(include_top=False, weights='imagenet', input_shape = input_shape)\n",
        "\n",
        "# Freezing the layers in the model\n",
        "for layer in model.layers:\n",
        "    layer.trainable = False\n",
        "    \n",
        "print('Done')"
      ],
      "execution_count": 0,
      "outputs": [
        {
          "output_type": "stream",
          "text": [
            "Downloading data from https://github.com/fchollet/deep-learning-models/releases/download/v0.4/xception_weights_tf_dim_ordering_tf_kernels_notop.h5\n",
            "83689472/83683744 [==============================] - 8s 0us/step\n",
            "Done\n"
          ],
          "name": "stdout"
        }
      ]
    },
    {
      "cell_type": "code",
      "metadata": {
        "id": "cIjaDrCS0-iZ",
        "colab_type": "code",
        "outputId": "b3d89ee1-2b63-48c0-8eef-231b203ed6e7",
        "colab": {
          "base_uri": "https://localhost:8080/",
          "height": 322
        }
      },
      "source": [
        "pip install git+https://github.com/titu1994/keras-efficientnets.git"
      ],
      "execution_count": 0,
      "outputs": [
        {
          "output_type": "stream",
          "text": [
            "Collecting git+https://github.com/titu1994/keras-efficientnets.git\n",
            "  Cloning https://github.com/titu1994/keras-efficientnets.git to /tmp/pip-req-build-g8oacv_5\n",
            "  Running command git clone -q https://github.com/titu1994/keras-efficientnets.git /tmp/pip-req-build-g8oacv_5\n",
            "Requirement already satisfied: keras>=2.2.4 in /usr/local/lib/python3.6/dist-packages (from keras-efficientnets==0.1.4) (2.2.4)\n",
            "Requirement already satisfied: scipy>=0.14 in /usr/local/lib/python3.6/dist-packages (from keras>=2.2.4->keras-efficientnets==0.1.4) (1.3.0)\n",
            "Requirement already satisfied: h5py in /usr/local/lib/python3.6/dist-packages (from keras>=2.2.4->keras-efficientnets==0.1.4) (2.8.0)\n",
            "Requirement already satisfied: keras-applications>=1.0.6 in /usr/local/lib/python3.6/dist-packages (from keras>=2.2.4->keras-efficientnets==0.1.4) (1.0.8)\n",
            "Requirement already satisfied: keras-preprocessing>=1.0.5 in /usr/local/lib/python3.6/dist-packages (from keras>=2.2.4->keras-efficientnets==0.1.4) (1.1.0)\n",
            "Requirement already satisfied: six>=1.9.0 in /usr/local/lib/python3.6/dist-packages (from keras>=2.2.4->keras-efficientnets==0.1.4) (1.12.0)\n",
            "Requirement already satisfied: pyyaml in /usr/local/lib/python3.6/dist-packages (from keras>=2.2.4->keras-efficientnets==0.1.4) (3.13)\n",
            "Requirement already satisfied: numpy>=1.9.1 in /usr/local/lib/python3.6/dist-packages (from keras>=2.2.4->keras-efficientnets==0.1.4) (1.16.4)\n",
            "Building wheels for collected packages: keras-efficientnets\n",
            "  Building wheel for keras-efficientnets (setup.py) ... \u001b[?25l\u001b[?25hdone\n",
            "  Stored in directory: /tmp/pip-ephem-wheel-cache-drd8b31r/wheels/0d/8e/ed/4aed4905c0bd3ff1e480dab2985a1a19b8d9a4a9d225dba818\n",
            "Successfully built keras-efficientnets\n",
            "Installing collected packages: keras-efficientnets\n",
            "Successfully installed keras-efficientnets-0.1.4\n"
          ],
          "name": "stdout"
        }
      ]
    },
    {
      "cell_type": "code",
      "metadata": {
        "id": "gQup--f_1aAS",
        "colab_type": "code",
        "outputId": "a96bd8de-5254-4707-a399-503ede92c00e",
        "colab": {
          "base_uri": "https://localhost:8080/",
          "height": 50
        }
      },
      "source": [
        "from keras_efficientnets import EfficientNetB0, EfficientNetB3\n",
        "model = EfficientNetB3(include_top=False, weights='imagenet', input_shape = input_shape)\n",
        "\n",
        "# Freezing the layers in the model\n",
        "for layer in model.layers:\n",
        "    layer.trainable = False\n",
        "    \n",
        "print('Done')"
      ],
      "execution_count": 0,
      "outputs": [
        {
          "output_type": "stream",
          "text": [
            "Downloading data from https://github.com/titu1994/keras-efficientnets/releases/download/v0.1/efficientnet-b3_notop.h5\n",
            "43974656/43966704 [==============================] - 0s 0us/step\n"
          ],
          "name": "stdout"
        }
      ]
    },
    {
      "cell_type": "markdown",
      "metadata": {
        "id": "wMib9z872OhW",
        "colab_type": "text"
      },
      "source": [
        "This was the random top layers I used when first going through and making the models to benchmark.  \n",
        "\n",
        "In hindsight, I should have done more research to find out what top layers I should use for transfer learning.  \n",
        "\n",
        "If you are following along with the code, please use the next block of code.  \n",
        "Just having dense layers with dropout is a better first gague to which model's architecture is suited for your dataset.  \n",
        "\n",
        "Although honestly speaking there is a lot more research to be done on how to properly optimise the last few layers of your custom model using transfer learning, so I challenge you to explore with whatever layers you want to add and see the results."
      ]
    },
    {
      "cell_type": "code",
      "metadata": {
        "id": "RqOEfSRO2VN4",
        "colab_type": "code",
        "outputId": "c6583120-4685-41bd-8a6a-accc8925aef1",
        "colab": {
          "base_uri": "https://localhost:8080/",
          "height": 87
        }
      },
      "source": [
        "# updated ver 1.1\n",
        "x = model.output\n",
        "x = Conv2D(64, (3, 3), padding='same', strides=1, input_shape = (299, 299, 3))(x)\n",
        "x = Activation('relu')(x)\n",
        "x = MaxPooling2D(pool_size=(2,2))(x)\n",
        "\n",
        "x = Conv2D(128, (3, 3), padding='same', strides=1, input_shape = (299, 299, 3))(x)\n",
        "x = Activation('relu')(x)\n",
        "x = MaxPooling2D(pool_size=(2,2))(x)\n",
        "\n",
        "x = Flatten()(x)\n",
        "x = Dense(1024, activation=\"relu\")(x)\n",
        "predictions = Dense(11, activation=\"softmax\")(x)\n",
        "model_final = Model(input = model.input, output = predictions)\n",
        "\n",
        "# This was to make the layers added to the top are trainable\n",
        "print(len(model.layers))\n",
        "for layer in model.layers[len(model.layers)-8 : len(model.layers)]:\n",
        "  layer.trainable = True"
      ],
      "execution_count": 0,
      "outputs": [
        {
          "output_type": "stream",
          "text": [
            "707\n"
          ],
          "name": "stdout"
        },
        {
          "output_type": "stream",
          "text": [
            "/usr/local/lib/python3.6/dist-packages/ipykernel_launcher.py:13: UserWarning: Update your `Model` call to the Keras 2 API: `Model(inputs=Tensor(\"in..., outputs=Tensor(\"de...)`\n",
            "  del sys.path[0]\n"
          ],
          "name": "stderr"
        }
      ]
    },
    {
      "cell_type": "code",
      "metadata": {
        "id": "uKmRaiTX3K-v",
        "colab_type": "code",
        "outputId": "237444b5-06e3-4ad6-bd6a-86968143301d",
        "colab": {
          "base_uri": "https://localhost:8080/",
          "height": 70
        }
      },
      "source": [
        "# better first gague\n",
        "x = model.output\n",
        "x = Dropout(0.5)(x)\n",
        "x = Dense(256, activation='relu')(x)\n",
        "x = Dropout(0.5)(x)\n",
        "x = Dense(128, activation='relu')(x)\n",
        "x = Dropout(0.5)(x)\n",
        "x = Flatten()(x)\n",
        "\n",
        "predictions = Dense(15, activation=\"softmax\")(x)\n",
        "model_final = Model(input = model.input, output = predictions)"
      ],
      "execution_count": 0,
      "outputs": [
        {
          "output_type": "stream",
          "text": [
            "/usr/local/lib/python3.6/dist-packages/ipykernel_launcher.py:10: UserWarning: Update your `Model` call to the Keras 2 API: `Model(inputs=Tensor(\"in..., outputs=Tensor(\"de...)`\n",
            "  # Remove the CWD from sys.path while we load stuff.\n"
          ],
          "name": "stderr"
        }
      ]
    },
    {
      "cell_type": "markdown",
      "metadata": {
        "id": "-HZixMkk7q2j",
        "colab_type": "text"
      },
      "source": [
        "At this point you can 'see' the model architecture that you will be training with the following block"
      ]
    },
    {
      "cell_type": "code",
      "metadata": {
        "id": "4whca2_Z71RD",
        "colab_type": "code",
        "outputId": "ccec17a8-e434-49c5-e530-fd15c2833411",
        "colab": {
          "base_uri": "https://localhost:8080/",
          "height": 5006
        }
      },
      "source": [
        "model_final.summary()"
      ],
      "execution_count": 0,
      "outputs": [
        {
          "output_type": "stream",
          "text": [
            "__________________________________________________________________________________________________\n",
            "Layer (type)                    Output Shape         Param #     Connected to                     \n",
            "==================================================================================================\n",
            "input_3 (InputLayer)            (None, 299, 299, 3)  0                                            \n",
            "__________________________________________________________________________________________________\n",
            "block1_conv1 (Conv2D)           (None, 149, 149, 32) 864         input_3[0][0]                    \n",
            "__________________________________________________________________________________________________\n",
            "block1_conv1_bn (BatchNormaliza (None, 149, 149, 32) 128         block1_conv1[0][0]               \n",
            "__________________________________________________________________________________________________\n",
            "block1_conv1_act (Activation)   (None, 149, 149, 32) 0           block1_conv1_bn[0][0]            \n",
            "__________________________________________________________________________________________________\n",
            "block1_conv2 (Conv2D)           (None, 147, 147, 64) 18432       block1_conv1_act[0][0]           \n",
            "__________________________________________________________________________________________________\n",
            "block1_conv2_bn (BatchNormaliza (None, 147, 147, 64) 256         block1_conv2[0][0]               \n",
            "__________________________________________________________________________________________________\n",
            "block1_conv2_act (Activation)   (None, 147, 147, 64) 0           block1_conv2_bn[0][0]            \n",
            "__________________________________________________________________________________________________\n",
            "block2_sepconv1 (SeparableConv2 (None, 147, 147, 128 8768        block1_conv2_act[0][0]           \n",
            "__________________________________________________________________________________________________\n",
            "block2_sepconv1_bn (BatchNormal (None, 147, 147, 128 512         block2_sepconv1[0][0]            \n",
            "__________________________________________________________________________________________________\n",
            "block2_sepconv2_act (Activation (None, 147, 147, 128 0           block2_sepconv1_bn[0][0]         \n",
            "__________________________________________________________________________________________________\n",
            "block2_sepconv2 (SeparableConv2 (None, 147, 147, 128 17536       block2_sepconv2_act[0][0]        \n",
            "__________________________________________________________________________________________________\n",
            "block2_sepconv2_bn (BatchNormal (None, 147, 147, 128 512         block2_sepconv2[0][0]            \n",
            "__________________________________________________________________________________________________\n",
            "conv2d_3 (Conv2D)               (None, 74, 74, 128)  8192        block1_conv2_act[0][0]           \n",
            "__________________________________________________________________________________________________\n",
            "block2_pool (MaxPooling2D)      (None, 74, 74, 128)  0           block2_sepconv2_bn[0][0]         \n",
            "__________________________________________________________________________________________________\n",
            "batch_normalization_1 (BatchNor (None, 74, 74, 128)  512         conv2d_3[0][0]                   \n",
            "__________________________________________________________________________________________________\n",
            "add_1 (Add)                     (None, 74, 74, 128)  0           block2_pool[0][0]                \n",
            "                                                                 batch_normalization_1[0][0]      \n",
            "__________________________________________________________________________________________________\n",
            "block3_sepconv1_act (Activation (None, 74, 74, 128)  0           add_1[0][0]                      \n",
            "__________________________________________________________________________________________________\n",
            "block3_sepconv1 (SeparableConv2 (None, 74, 74, 256)  33920       block3_sepconv1_act[0][0]        \n",
            "__________________________________________________________________________________________________\n",
            "block3_sepconv1_bn (BatchNormal (None, 74, 74, 256)  1024        block3_sepconv1[0][0]            \n",
            "__________________________________________________________________________________________________\n",
            "block3_sepconv2_act (Activation (None, 74, 74, 256)  0           block3_sepconv1_bn[0][0]         \n",
            "__________________________________________________________________________________________________\n",
            "block3_sepconv2 (SeparableConv2 (None, 74, 74, 256)  67840       block3_sepconv2_act[0][0]        \n",
            "__________________________________________________________________________________________________\n",
            "block3_sepconv2_bn (BatchNormal (None, 74, 74, 256)  1024        block3_sepconv2[0][0]            \n",
            "__________________________________________________________________________________________________\n",
            "conv2d_4 (Conv2D)               (None, 37, 37, 256)  32768       add_1[0][0]                      \n",
            "__________________________________________________________________________________________________\n",
            "block3_pool (MaxPooling2D)      (None, 37, 37, 256)  0           block3_sepconv2_bn[0][0]         \n",
            "__________________________________________________________________________________________________\n",
            "batch_normalization_2 (BatchNor (None, 37, 37, 256)  1024        conv2d_4[0][0]                   \n",
            "__________________________________________________________________________________________________\n",
            "add_2 (Add)                     (None, 37, 37, 256)  0           block3_pool[0][0]                \n",
            "                                                                 batch_normalization_2[0][0]      \n",
            "__________________________________________________________________________________________________\n",
            "block4_sepconv1_act (Activation (None, 37, 37, 256)  0           add_2[0][0]                      \n",
            "__________________________________________________________________________________________________\n",
            "block4_sepconv1 (SeparableConv2 (None, 37, 37, 728)  188672      block4_sepconv1_act[0][0]        \n",
            "__________________________________________________________________________________________________\n",
            "block4_sepconv1_bn (BatchNormal (None, 37, 37, 728)  2912        block4_sepconv1[0][0]            \n",
            "__________________________________________________________________________________________________\n",
            "block4_sepconv2_act (Activation (None, 37, 37, 728)  0           block4_sepconv1_bn[0][0]         \n",
            "__________________________________________________________________________________________________\n",
            "block4_sepconv2 (SeparableConv2 (None, 37, 37, 728)  536536      block4_sepconv2_act[0][0]        \n",
            "__________________________________________________________________________________________________\n",
            "block4_sepconv2_bn (BatchNormal (None, 37, 37, 728)  2912        block4_sepconv2[0][0]            \n",
            "__________________________________________________________________________________________________\n",
            "conv2d_5 (Conv2D)               (None, 19, 19, 728)  186368      add_2[0][0]                      \n",
            "__________________________________________________________________________________________________\n",
            "block4_pool (MaxPooling2D)      (None, 19, 19, 728)  0           block4_sepconv2_bn[0][0]         \n",
            "__________________________________________________________________________________________________\n",
            "batch_normalization_3 (BatchNor (None, 19, 19, 728)  2912        conv2d_5[0][0]                   \n",
            "__________________________________________________________________________________________________\n",
            "add_3 (Add)                     (None, 19, 19, 728)  0           block4_pool[0][0]                \n",
            "                                                                 batch_normalization_3[0][0]      \n",
            "__________________________________________________________________________________________________\n",
            "block5_sepconv1_act (Activation (None, 19, 19, 728)  0           add_3[0][0]                      \n",
            "__________________________________________________________________________________________________\n",
            "block5_sepconv1 (SeparableConv2 (None, 19, 19, 728)  536536      block5_sepconv1_act[0][0]        \n",
            "__________________________________________________________________________________________________\n",
            "block5_sepconv1_bn (BatchNormal (None, 19, 19, 728)  2912        block5_sepconv1[0][0]            \n",
            "__________________________________________________________________________________________________\n",
            "block5_sepconv2_act (Activation (None, 19, 19, 728)  0           block5_sepconv1_bn[0][0]         \n",
            "__________________________________________________________________________________________________\n",
            "block5_sepconv2 (SeparableConv2 (None, 19, 19, 728)  536536      block5_sepconv2_act[0][0]        \n",
            "__________________________________________________________________________________________________\n",
            "block5_sepconv2_bn (BatchNormal (None, 19, 19, 728)  2912        block5_sepconv2[0][0]            \n",
            "__________________________________________________________________________________________________\n",
            "block5_sepconv3_act (Activation (None, 19, 19, 728)  0           block5_sepconv2_bn[0][0]         \n",
            "__________________________________________________________________________________________________\n",
            "block5_sepconv3 (SeparableConv2 (None, 19, 19, 728)  536536      block5_sepconv3_act[0][0]        \n",
            "__________________________________________________________________________________________________\n",
            "block5_sepconv3_bn (BatchNormal (None, 19, 19, 728)  2912        block5_sepconv3[0][0]            \n",
            "__________________________________________________________________________________________________\n",
            "add_4 (Add)                     (None, 19, 19, 728)  0           block5_sepconv3_bn[0][0]         \n",
            "                                                                 add_3[0][0]                      \n",
            "__________________________________________________________________________________________________\n",
            "block6_sepconv1_act (Activation (None, 19, 19, 728)  0           add_4[0][0]                      \n",
            "__________________________________________________________________________________________________\n",
            "block6_sepconv1 (SeparableConv2 (None, 19, 19, 728)  536536      block6_sepconv1_act[0][0]        \n",
            "__________________________________________________________________________________________________\n",
            "block6_sepconv1_bn (BatchNormal (None, 19, 19, 728)  2912        block6_sepconv1[0][0]            \n",
            "__________________________________________________________________________________________________\n",
            "block6_sepconv2_act (Activation (None, 19, 19, 728)  0           block6_sepconv1_bn[0][0]         \n",
            "__________________________________________________________________________________________________\n",
            "block6_sepconv2 (SeparableConv2 (None, 19, 19, 728)  536536      block6_sepconv2_act[0][0]        \n",
            "__________________________________________________________________________________________________\n",
            "block6_sepconv2_bn (BatchNormal (None, 19, 19, 728)  2912        block6_sepconv2[0][0]            \n",
            "__________________________________________________________________________________________________\n",
            "block6_sepconv3_act (Activation (None, 19, 19, 728)  0           block6_sepconv2_bn[0][0]         \n",
            "__________________________________________________________________________________________________\n",
            "block6_sepconv3 (SeparableConv2 (None, 19, 19, 728)  536536      block6_sepconv3_act[0][0]        \n",
            "__________________________________________________________________________________________________\n",
            "block6_sepconv3_bn (BatchNormal (None, 19, 19, 728)  2912        block6_sepconv3[0][0]            \n",
            "__________________________________________________________________________________________________\n",
            "add_5 (Add)                     (None, 19, 19, 728)  0           block6_sepconv3_bn[0][0]         \n",
            "                                                                 add_4[0][0]                      \n",
            "__________________________________________________________________________________________________\n",
            "block7_sepconv1_act (Activation (None, 19, 19, 728)  0           add_5[0][0]                      \n",
            "__________________________________________________________________________________________________\n",
            "block7_sepconv1 (SeparableConv2 (None, 19, 19, 728)  536536      block7_sepconv1_act[0][0]        \n",
            "__________________________________________________________________________________________________\n",
            "block7_sepconv1_bn (BatchNormal (None, 19, 19, 728)  2912        block7_sepconv1[0][0]            \n",
            "__________________________________________________________________________________________________\n",
            "block7_sepconv2_act (Activation (None, 19, 19, 728)  0           block7_sepconv1_bn[0][0]         \n",
            "__________________________________________________________________________________________________\n",
            "block7_sepconv2 (SeparableConv2 (None, 19, 19, 728)  536536      block7_sepconv2_act[0][0]        \n",
            "__________________________________________________________________________________________________\n",
            "block7_sepconv2_bn (BatchNormal (None, 19, 19, 728)  2912        block7_sepconv2[0][0]            \n",
            "__________________________________________________________________________________________________\n",
            "block7_sepconv3_act (Activation (None, 19, 19, 728)  0           block7_sepconv2_bn[0][0]         \n",
            "__________________________________________________________________________________________________\n",
            "block7_sepconv3 (SeparableConv2 (None, 19, 19, 728)  536536      block7_sepconv3_act[0][0]        \n",
            "__________________________________________________________________________________________________\n",
            "block7_sepconv3_bn (BatchNormal (None, 19, 19, 728)  2912        block7_sepconv3[0][0]            \n",
            "__________________________________________________________________________________________________\n",
            "add_6 (Add)                     (None, 19, 19, 728)  0           block7_sepconv3_bn[0][0]         \n",
            "                                                                 add_5[0][0]                      \n",
            "__________________________________________________________________________________________________\n",
            "block8_sepconv1_act (Activation (None, 19, 19, 728)  0           add_6[0][0]                      \n",
            "__________________________________________________________________________________________________\n",
            "block8_sepconv1 (SeparableConv2 (None, 19, 19, 728)  536536      block8_sepconv1_act[0][0]        \n",
            "__________________________________________________________________________________________________\n",
            "block8_sepconv1_bn (BatchNormal (None, 19, 19, 728)  2912        block8_sepconv1[0][0]            \n",
            "__________________________________________________________________________________________________\n",
            "block8_sepconv2_act (Activation (None, 19, 19, 728)  0           block8_sepconv1_bn[0][0]         \n",
            "__________________________________________________________________________________________________\n",
            "block8_sepconv2 (SeparableConv2 (None, 19, 19, 728)  536536      block8_sepconv2_act[0][0]        \n",
            "__________________________________________________________________________________________________\n",
            "block8_sepconv2_bn (BatchNormal (None, 19, 19, 728)  2912        block8_sepconv2[0][0]            \n",
            "__________________________________________________________________________________________________\n",
            "block8_sepconv3_act (Activation (None, 19, 19, 728)  0           block8_sepconv2_bn[0][0]         \n",
            "__________________________________________________________________________________________________\n",
            "block8_sepconv3 (SeparableConv2 (None, 19, 19, 728)  536536      block8_sepconv3_act[0][0]        \n",
            "__________________________________________________________________________________________________\n",
            "block8_sepconv3_bn (BatchNormal (None, 19, 19, 728)  2912        block8_sepconv3[0][0]            \n",
            "__________________________________________________________________________________________________\n",
            "add_7 (Add)                     (None, 19, 19, 728)  0           block8_sepconv3_bn[0][0]         \n",
            "                                                                 add_6[0][0]                      \n",
            "__________________________________________________________________________________________________\n",
            "block9_sepconv1_act (Activation (None, 19, 19, 728)  0           add_7[0][0]                      \n",
            "__________________________________________________________________________________________________\n",
            "block9_sepconv1 (SeparableConv2 (None, 19, 19, 728)  536536      block9_sepconv1_act[0][0]        \n",
            "__________________________________________________________________________________________________\n",
            "block9_sepconv1_bn (BatchNormal (None, 19, 19, 728)  2912        block9_sepconv1[0][0]            \n",
            "__________________________________________________________________________________________________\n",
            "block9_sepconv2_act (Activation (None, 19, 19, 728)  0           block9_sepconv1_bn[0][0]         \n",
            "__________________________________________________________________________________________________\n",
            "block9_sepconv2 (SeparableConv2 (None, 19, 19, 728)  536536      block9_sepconv2_act[0][0]        \n",
            "__________________________________________________________________________________________________\n",
            "block9_sepconv2_bn (BatchNormal (None, 19, 19, 728)  2912        block9_sepconv2[0][0]            \n",
            "__________________________________________________________________________________________________\n",
            "block9_sepconv3_act (Activation (None, 19, 19, 728)  0           block9_sepconv2_bn[0][0]         \n",
            "__________________________________________________________________________________________________\n",
            "block9_sepconv3 (SeparableConv2 (None, 19, 19, 728)  536536      block9_sepconv3_act[0][0]        \n",
            "__________________________________________________________________________________________________\n",
            "block9_sepconv3_bn (BatchNormal (None, 19, 19, 728)  2912        block9_sepconv3[0][0]            \n",
            "__________________________________________________________________________________________________\n",
            "add_8 (Add)                     (None, 19, 19, 728)  0           block9_sepconv3_bn[0][0]         \n",
            "                                                                 add_7[0][0]                      \n",
            "__________________________________________________________________________________________________\n",
            "block10_sepconv1_act (Activatio (None, 19, 19, 728)  0           add_8[0][0]                      \n",
            "__________________________________________________________________________________________________\n",
            "block10_sepconv1 (SeparableConv (None, 19, 19, 728)  536536      block10_sepconv1_act[0][0]       \n",
            "__________________________________________________________________________________________________\n",
            "block10_sepconv1_bn (BatchNorma (None, 19, 19, 728)  2912        block10_sepconv1[0][0]           \n",
            "__________________________________________________________________________________________________\n",
            "block10_sepconv2_act (Activatio (None, 19, 19, 728)  0           block10_sepconv1_bn[0][0]        \n",
            "__________________________________________________________________________________________________\n",
            "block10_sepconv2 (SeparableConv (None, 19, 19, 728)  536536      block10_sepconv2_act[0][0]       \n",
            "__________________________________________________________________________________________________\n",
            "block10_sepconv2_bn (BatchNorma (None, 19, 19, 728)  2912        block10_sepconv2[0][0]           \n",
            "__________________________________________________________________________________________________\n",
            "block10_sepconv3_act (Activatio (None, 19, 19, 728)  0           block10_sepconv2_bn[0][0]        \n",
            "__________________________________________________________________________________________________\n",
            "block10_sepconv3 (SeparableConv (None, 19, 19, 728)  536536      block10_sepconv3_act[0][0]       \n",
            "__________________________________________________________________________________________________\n",
            "block10_sepconv3_bn (BatchNorma (None, 19, 19, 728)  2912        block10_sepconv3[0][0]           \n",
            "__________________________________________________________________________________________________\n",
            "add_9 (Add)                     (None, 19, 19, 728)  0           block10_sepconv3_bn[0][0]        \n",
            "                                                                 add_8[0][0]                      \n",
            "__________________________________________________________________________________________________\n",
            "block11_sepconv1_act (Activatio (None, 19, 19, 728)  0           add_9[0][0]                      \n",
            "__________________________________________________________________________________________________\n",
            "block11_sepconv1 (SeparableConv (None, 19, 19, 728)  536536      block11_sepconv1_act[0][0]       \n",
            "__________________________________________________________________________________________________\n",
            "block11_sepconv1_bn (BatchNorma (None, 19, 19, 728)  2912        block11_sepconv1[0][0]           \n",
            "__________________________________________________________________________________________________\n",
            "block11_sepconv2_act (Activatio (None, 19, 19, 728)  0           block11_sepconv1_bn[0][0]        \n",
            "__________________________________________________________________________________________________\n",
            "block11_sepconv2 (SeparableConv (None, 19, 19, 728)  536536      block11_sepconv2_act[0][0]       \n",
            "__________________________________________________________________________________________________\n",
            "block11_sepconv2_bn (BatchNorma (None, 19, 19, 728)  2912        block11_sepconv2[0][0]           \n",
            "__________________________________________________________________________________________________\n",
            "block11_sepconv3_act (Activatio (None, 19, 19, 728)  0           block11_sepconv2_bn[0][0]        \n",
            "__________________________________________________________________________________________________\n",
            "block11_sepconv3 (SeparableConv (None, 19, 19, 728)  536536      block11_sepconv3_act[0][0]       \n",
            "__________________________________________________________________________________________________\n",
            "block11_sepconv3_bn (BatchNorma (None, 19, 19, 728)  2912        block11_sepconv3[0][0]           \n",
            "__________________________________________________________________________________________________\n",
            "add_10 (Add)                    (None, 19, 19, 728)  0           block11_sepconv3_bn[0][0]        \n",
            "                                                                 add_9[0][0]                      \n",
            "__________________________________________________________________________________________________\n",
            "block12_sepconv1_act (Activatio (None, 19, 19, 728)  0           add_10[0][0]                     \n",
            "__________________________________________________________________________________________________\n",
            "block12_sepconv1 (SeparableConv (None, 19, 19, 728)  536536      block12_sepconv1_act[0][0]       \n",
            "__________________________________________________________________________________________________\n",
            "block12_sepconv1_bn (BatchNorma (None, 19, 19, 728)  2912        block12_sepconv1[0][0]           \n",
            "__________________________________________________________________________________________________\n",
            "block12_sepconv2_act (Activatio (None, 19, 19, 728)  0           block12_sepconv1_bn[0][0]        \n",
            "__________________________________________________________________________________________________\n",
            "block12_sepconv2 (SeparableConv (None, 19, 19, 728)  536536      block12_sepconv2_act[0][0]       \n",
            "__________________________________________________________________________________________________\n",
            "block12_sepconv2_bn (BatchNorma (None, 19, 19, 728)  2912        block12_sepconv2[0][0]           \n",
            "__________________________________________________________________________________________________\n",
            "block12_sepconv3_act (Activatio (None, 19, 19, 728)  0           block12_sepconv2_bn[0][0]        \n",
            "__________________________________________________________________________________________________\n",
            "block12_sepconv3 (SeparableConv (None, 19, 19, 728)  536536      block12_sepconv3_act[0][0]       \n",
            "__________________________________________________________________________________________________\n",
            "block12_sepconv3_bn (BatchNorma (None, 19, 19, 728)  2912        block12_sepconv3[0][0]           \n",
            "__________________________________________________________________________________________________\n",
            "add_11 (Add)                    (None, 19, 19, 728)  0           block12_sepconv3_bn[0][0]        \n",
            "                                                                 add_10[0][0]                     \n",
            "__________________________________________________________________________________________________\n",
            "block13_sepconv1_act (Activatio (None, 19, 19, 728)  0           add_11[0][0]                     \n",
            "__________________________________________________________________________________________________\n",
            "block13_sepconv1 (SeparableConv (None, 19, 19, 728)  536536      block13_sepconv1_act[0][0]       \n",
            "__________________________________________________________________________________________________\n",
            "block13_sepconv1_bn (BatchNorma (None, 19, 19, 728)  2912        block13_sepconv1[0][0]           \n",
            "__________________________________________________________________________________________________\n",
            "block13_sepconv2_act (Activatio (None, 19, 19, 728)  0           block13_sepconv1_bn[0][0]        \n",
            "__________________________________________________________________________________________________\n",
            "block13_sepconv2 (SeparableConv (None, 19, 19, 1024) 752024      block13_sepconv2_act[0][0]       \n",
            "__________________________________________________________________________________________________\n",
            "block13_sepconv2_bn (BatchNorma (None, 19, 19, 1024) 4096        block13_sepconv2[0][0]           \n",
            "__________________________________________________________________________________________________\n",
            "conv2d_6 (Conv2D)               (None, 10, 10, 1024) 745472      add_11[0][0]                     \n",
            "__________________________________________________________________________________________________\n",
            "block13_pool (MaxPooling2D)     (None, 10, 10, 1024) 0           block13_sepconv2_bn[0][0]        \n",
            "__________________________________________________________________________________________________\n",
            "batch_normalization_4 (BatchNor (None, 10, 10, 1024) 4096        conv2d_6[0][0]                   \n",
            "__________________________________________________________________________________________________\n",
            "add_12 (Add)                    (None, 10, 10, 1024) 0           block13_pool[0][0]               \n",
            "                                                                 batch_normalization_4[0][0]      \n",
            "__________________________________________________________________________________________________\n",
            "block14_sepconv1 (SeparableConv (None, 10, 10, 1536) 1582080     add_12[0][0]                     \n",
            "__________________________________________________________________________________________________\n",
            "block14_sepconv1_bn (BatchNorma (None, 10, 10, 1536) 6144        block14_sepconv1[0][0]           \n",
            "__________________________________________________________________________________________________\n",
            "block14_sepconv1_act (Activatio (None, 10, 10, 1536) 0           block14_sepconv1_bn[0][0]        \n",
            "__________________________________________________________________________________________________\n",
            "block14_sepconv2 (SeparableConv (None, 10, 10, 2048) 3159552     block14_sepconv1_act[0][0]       \n",
            "__________________________________________________________________________________________________\n",
            "block14_sepconv2_bn (BatchNorma (None, 10, 10, 2048) 8192        block14_sepconv2[0][0]           \n",
            "__________________________________________________________________________________________________\n",
            "block14_sepconv2_act (Activatio (None, 10, 10, 2048) 0           block14_sepconv2_bn[0][0]        \n",
            "__________________________________________________________________________________________________\n",
            "dropout_15 (Dropout)            (None, 10, 10, 2048) 0           block14_sepconv2_act[0][0]       \n",
            "__________________________________________________________________________________________________\n",
            "dense_18 (Dense)                (None, 10, 10, 256)  524544      dropout_15[0][0]                 \n",
            "__________________________________________________________________________________________________\n",
            "dropout_16 (Dropout)            (None, 10, 10, 256)  0           dense_18[0][0]                   \n",
            "__________________________________________________________________________________________________\n",
            "dense_19 (Dense)                (None, 10, 10, 128)  32896       dropout_16[0][0]                 \n",
            "__________________________________________________________________________________________________\n",
            "dropout_17 (Dropout)            (None, 10, 10, 128)  0           dense_19[0][0]                   \n",
            "__________________________________________________________________________________________________\n",
            "flatten_4 (Flatten)             (None, 12800)        0           dropout_17[0][0]                 \n",
            "__________________________________________________________________________________________________\n",
            "dense_20 (Dense)                (None, 15)           192015      flatten_4[0][0]                  \n",
            "==================================================================================================\n",
            "Total params: 21,610,935\n",
            "Trainable params: 749,455\n",
            "Non-trainable params: 20,861,480\n",
            "__________________________________________________________________________________________________\n"
          ],
          "name": "stdout"
        }
      ]
    },
    {
      "cell_type": "markdown",
      "metadata": {
        "id": "vM_gdEDu4o-v",
        "colab_type": "text"
      },
      "source": [
        "This next part is just setting up a checkpoint as a callback, saving the model with the best validation accuarcy at after training, as opposed to the last model.  \n",
        "\n",
        "This is also where the loss function, optimizer and metric to compare the model on is set as parameters. "
      ]
    },
    {
      "cell_type": "code",
      "metadata": {
        "id": "CngmlTrt47-s",
        "colab_type": "code",
        "colab": {}
      },
      "source": [
        "from keras.callbacks import ModelCheckpoint\n",
        "\n",
        "bestValidationCheckpointer = ModelCheckpoint('train_model.hdf5', monitor='val_acc', save_best_only=True, verbose=1)\n",
        "from keras import optimizers\n",
        "\n",
        "model_final.compile(loss='categorical_crossentropy',\n",
        "              optimizer=optimizers.Adam(),\n",
        "              metrics=['accuracy'])"
      ],
      "execution_count": 0,
      "outputs": []
    },
    {
      "cell_type": "markdown",
      "metadata": {
        "id": "VFeu4Iz63pSM",
        "colab_type": "text"
      },
      "source": [
        "# Training the model\n",
        "\n",
        "Nuff said."
      ]
    },
    {
      "cell_type": "markdown",
      "metadata": {
        "id": "4gfOAjiI5Qgh",
        "colab_type": "text"
      },
      "source": [
        "This is the block of code that will train your model.  \n",
        "\n",
        "Note: I did not do this when I was training the models but you can use some other methods in keras and matplotlib to plot the loss and accuracy of your model. I will (try to?) include them in the next block"
      ]
    },
    {
      "cell_type": "code",
      "metadata": {
        "id": "8Jg4E0Bk5NTw",
        "colab_type": "code",
        "outputId": "660baf8e-b87b-4f31-c873-38519331f701",
        "colab": {
          "base_uri": "https://localhost:8080/",
          "height": 2705
        }
      },
      "source": [
        "history = model_final.fit_generator(\n",
        "        train_generator, # train generator has 973 train images\n",
        "        steps_per_epoch=train_generator.samples // bs + 1,\n",
        "        epochs=40,\n",
        "        validation_data=val_generator, # validation generator has 253 validation images\n",
        "        validation_steps=val_generator.samples // bs + 1,\n",
        "        callbacks=[bestValidationCheckpointer]\n",
        ")"
      ],
      "execution_count": 0,
      "outputs": [
        {
          "output_type": "stream",
          "text": [
            "Epoch 1/40\n",
            "42/42 [==============================] - 575s 14s/step - loss: 2.9542 - acc: 0.0954 - val_loss: 2.5965 - val_acc: 0.1556\n",
            "\n",
            "Epoch 00001: val_acc improved from -inf to 0.15562, saving model to train_model.hdf5\n",
            "Epoch 2/40\n",
            "42/42 [==============================] - 32s 757ms/step - loss: 2.4616 - acc: 0.1825 - val_loss: 2.2721 - val_acc: 0.2421\n",
            "\n",
            "Epoch 00002: val_acc improved from 0.15562 to 0.24207, saving model to train_model.hdf5\n",
            "Epoch 3/40\n",
            "42/42 [==============================] - 32s 756ms/step - loss: 2.1288 - acc: 0.2958 - val_loss: 2.0962 - val_acc: 0.3141\n",
            "\n",
            "Epoch 00003: val_acc improved from 0.24207 to 0.31412, saving model to train_model.hdf5\n",
            "Epoch 4/40\n",
            "42/42 [==============================] - 32s 758ms/step - loss: 1.7161 - acc: 0.4315 - val_loss: 1.8929 - val_acc: 0.3401\n",
            "\n",
            "Epoch 00004: val_acc improved from 0.31412 to 0.34006, saving model to train_model.hdf5\n",
            "Epoch 5/40\n",
            "42/42 [==============================] - 32s 759ms/step - loss: 1.4714 - acc: 0.4948 - val_loss: 2.0579 - val_acc: 0.3890\n",
            "\n",
            "Epoch 00005: val_acc improved from 0.34006 to 0.38905, saving model to train_model.hdf5\n",
            "Epoch 6/40\n",
            "42/42 [==============================] - 32s 758ms/step - loss: 1.2777 - acc: 0.5625 - val_loss: 1.8348 - val_acc: 0.3862\n",
            "\n",
            "Epoch 00006: val_acc did not improve from 0.38905\n",
            "Epoch 7/40\n",
            "42/42 [==============================] - 32s 758ms/step - loss: 1.1517 - acc: 0.5924 - val_loss: 2.4148 - val_acc: 0.2997\n",
            "\n",
            "Epoch 00007: val_acc did not improve from 0.38905\n",
            "Epoch 8/40\n",
            "42/42 [==============================] - 32s 756ms/step - loss: 1.0030 - acc: 0.6615 - val_loss: 2.1062 - val_acc: 0.3718\n",
            "\n",
            "Epoch 00008: val_acc did not improve from 0.38905\n",
            "Epoch 9/40\n",
            "42/42 [==============================] - 32s 757ms/step - loss: 0.9442 - acc: 0.6818 - val_loss: 2.2520 - val_acc: 0.3689\n",
            "\n",
            "Epoch 00009: val_acc did not improve from 0.38905\n",
            "Epoch 10/40\n",
            "42/42 [==============================] - 32s 756ms/step - loss: 0.9277 - acc: 0.6912 - val_loss: 2.0357 - val_acc: 0.4092\n",
            "\n",
            "Epoch 00010: val_acc improved from 0.38905 to 0.40922, saving model to train_model.hdf5\n",
            "Epoch 11/40\n",
            "42/42 [==============================] - 32s 758ms/step - loss: 0.7341 - acc: 0.7390 - val_loss: 3.0056 - val_acc: 0.2997\n",
            "\n",
            "Epoch 00011: val_acc did not improve from 0.40922\n",
            "Epoch 12/40\n",
            "42/42 [==============================] - 32s 758ms/step - loss: 0.6805 - acc: 0.7735 - val_loss: 2.4137 - val_acc: 0.3804\n",
            "\n",
            "Epoch 00012: val_acc did not improve from 0.40922\n",
            "Epoch 13/40\n",
            "42/42 [==============================] - 32s 759ms/step - loss: 0.5768 - acc: 0.7956 - val_loss: 2.4487 - val_acc: 0.3573\n",
            "\n",
            "Epoch 00013: val_acc did not improve from 0.40922\n",
            "Epoch 14/40\n",
            "42/42 [==============================] - 32s 759ms/step - loss: 0.5420 - acc: 0.8168 - val_loss: 3.0262 - val_acc: 0.3429\n",
            "\n",
            "Epoch 00014: val_acc did not improve from 0.40922\n",
            "Epoch 15/40\n",
            "42/42 [==============================] - 32s 760ms/step - loss: 0.4987 - acc: 0.8256 - val_loss: 2.7350 - val_acc: 0.3833\n",
            "\n",
            "Epoch 00015: val_acc did not improve from 0.40922\n",
            "Epoch 16/40\n",
            "42/42 [==============================] - 32s 759ms/step - loss: 0.4410 - acc: 0.8427 - val_loss: 2.5501 - val_acc: 0.3948\n",
            "\n",
            "Epoch 00016: val_acc did not improve from 0.40922\n",
            "Epoch 17/40\n",
            "42/42 [==============================] - 32s 757ms/step - loss: 0.4345 - acc: 0.8504 - val_loss: 3.1114 - val_acc: 0.3458\n",
            "\n",
            "Epoch 00017: val_acc did not improve from 0.40922\n",
            "Epoch 18/40\n",
            "42/42 [==============================] - 32s 757ms/step - loss: 0.3802 - acc: 0.8674 - val_loss: 2.9705 - val_acc: 0.3631\n",
            "\n",
            "Epoch 00018: val_acc did not improve from 0.40922\n",
            "Epoch 19/40\n",
            "42/42 [==============================] - 32s 758ms/step - loss: 0.3565 - acc: 0.8720 - val_loss: 2.9054 - val_acc: 0.3833\n",
            "\n",
            "Epoch 00019: val_acc did not improve from 0.40922\n",
            "Epoch 20/40\n",
            "42/42 [==============================] - 32s 758ms/step - loss: 0.3497 - acc: 0.8876 - val_loss: 2.8048 - val_acc: 0.4035\n",
            "\n",
            "Epoch 00020: val_acc did not improve from 0.40922\n",
            "Epoch 21/40\n",
            "42/42 [==============================] - 32s 760ms/step - loss: 0.2881 - acc: 0.8988 - val_loss: 2.7786 - val_acc: 0.4063\n",
            "\n",
            "Epoch 00021: val_acc did not improve from 0.40922\n",
            "Epoch 22/40\n",
            "42/42 [==============================] - 33s 774ms/step - loss: 0.3014 - acc: 0.9035 - val_loss: 3.3201 - val_acc: 0.3718\n",
            "\n",
            "Epoch 00022: val_acc did not improve from 0.40922\n",
            "Epoch 23/40\n",
            "42/42 [==============================] - 33s 778ms/step - loss: 0.2910 - acc: 0.8971 - val_loss: 3.2678 - val_acc: 0.3545\n",
            "\n",
            "Epoch 00023: val_acc did not improve from 0.40922\n",
            "Epoch 24/40\n",
            "42/42 [==============================] - 32s 773ms/step - loss: 0.2217 - acc: 0.9217 - val_loss: 3.2643 - val_acc: 0.3775\n",
            "\n",
            "Epoch 00024: val_acc did not improve from 0.40922\n",
            "Epoch 25/40\n",
            "42/42 [==============================] - 32s 767ms/step - loss: 0.3128 - acc: 0.8964 - val_loss: 3.8769 - val_acc: 0.3228\n",
            "\n",
            "Epoch 00025: val_acc did not improve from 0.40922\n",
            "Epoch 26/40\n",
            "42/42 [==============================] - 32s 759ms/step - loss: 0.2113 - acc: 0.9255 - val_loss: 3.0063 - val_acc: 0.4006\n",
            "\n",
            "Epoch 00026: val_acc did not improve from 0.40922\n",
            "Epoch 27/40\n",
            "42/42 [==============================] - 32s 761ms/step - loss: 0.1778 - acc: 0.9411 - val_loss: 3.7890 - val_acc: 0.3631\n",
            "\n",
            "Epoch 00027: val_acc did not improve from 0.40922\n",
            "Epoch 28/40\n",
            "42/42 [==============================] - 32s 765ms/step - loss: 0.1665 - acc: 0.9434 - val_loss: 3.3796 - val_acc: 0.4236\n",
            "\n",
            "Epoch 00028: val_acc improved from 0.40922 to 0.42363, saving model to train_model.hdf5\n",
            "Epoch 29/40\n",
            "42/42 [==============================] - 32s 758ms/step - loss: 0.1864 - acc: 0.9359 - val_loss: 3.4155 - val_acc: 0.4207\n",
            "\n",
            "Epoch 00029: val_acc did not improve from 0.42363\n",
            "Epoch 30/40\n",
            "42/42 [==============================] - 32s 758ms/step - loss: 0.1764 - acc: 0.9449 - val_loss: 3.3283 - val_acc: 0.4121\n",
            "\n",
            "Epoch 00030: val_acc did not improve from 0.42363\n",
            "Epoch 31/40\n",
            "42/42 [==============================] - 32s 757ms/step - loss: 0.1765 - acc: 0.9365 - val_loss: 4.2547 - val_acc: 0.3199\n",
            "\n",
            "Epoch 00031: val_acc did not improve from 0.42363\n",
            "Epoch 32/40\n",
            "42/42 [==============================] - 32s 757ms/step - loss: 0.1499 - acc: 0.9516 - val_loss: 3.8129 - val_acc: 0.3631\n",
            "\n",
            "Epoch 00032: val_acc did not improve from 0.42363\n",
            "Epoch 33/40\n",
            "42/42 [==============================] - 32s 758ms/step - loss: 0.1402 - acc: 0.9561 - val_loss: 3.9422 - val_acc: 0.3660\n",
            "\n",
            "Epoch 00033: val_acc did not improve from 0.42363\n",
            "Epoch 34/40\n",
            "42/42 [==============================] - 32s 759ms/step - loss: 0.1553 - acc: 0.9405 - val_loss: 4.3580 - val_acc: 0.3573\n",
            "\n",
            "Epoch 00034: val_acc did not improve from 0.42363\n",
            "Epoch 35/40\n",
            "42/42 [==============================] - 32s 759ms/step - loss: 0.1724 - acc: 0.9447 - val_loss: 3.1712 - val_acc: 0.4640\n",
            "\n",
            "Epoch 00035: val_acc improved from 0.42363 to 0.46398, saving model to train_model.hdf5\n",
            "Epoch 36/40\n",
            "42/42 [==============================] - 32s 758ms/step - loss: 0.1434 - acc: 0.9561 - val_loss: 4.3344 - val_acc: 0.3746\n",
            "\n",
            "Epoch 00036: val_acc did not improve from 0.46398\n",
            "Epoch 37/40\n",
            "42/42 [==============================] - 32s 758ms/step - loss: 0.1481 - acc: 0.9441 - val_loss: 4.4985 - val_acc: 0.3458\n",
            "\n",
            "Epoch 00037: val_acc did not improve from 0.46398\n",
            "Epoch 38/40\n",
            "42/42 [==============================] - 32s 758ms/step - loss: 0.2346 - acc: 0.9268 - val_loss: 3.7863 - val_acc: 0.3401\n",
            "\n",
            "Epoch 00038: val_acc did not improve from 0.46398\n",
            "Epoch 39/40\n",
            "42/42 [==============================] - 32s 759ms/step - loss: 0.1640 - acc: 0.9448 - val_loss: 4.1923 - val_acc: 0.3977\n",
            "\n",
            "Epoch 00039: val_acc did not improve from 0.46398\n",
            "Epoch 40/40\n",
            "42/42 [==============================] - 32s 760ms/step - loss: 0.1933 - acc: 0.9345 - val_loss: 3.8181 - val_acc: 0.4006\n",
            "\n",
            "Epoch 00040: val_acc did not improve from 0.46398\n"
          ],
          "name": "stdout"
        }
      ]
    },
    {
      "cell_type": "code",
      "metadata": {
        "id": "AWGNQNTD9_Fh",
        "colab_type": "code",
        "outputId": "ba6da712-fb3d-479f-fe2c-2fca3c324769",
        "colab": {
          "base_uri": "https://localhost:8080/",
          "height": 574
        }
      },
      "source": [
        "plt.plot(history.history['acc'])\n",
        "plt.plot(history.history['val_acc'])\n",
        "plt.title('model accuracy')\n",
        "plt.ylabel('accuracy')\n",
        "plt.xlabel('epoch')\n",
        "plt.legend(['train', 'test'], loc='upper left')\n",
        "plt.show()\n",
        "# summarize history for loss\n",
        "plt.plot(history.history['loss'])\n",
        "plt.plot(history.history['val_loss'])\n",
        "plt.title('model loss')\n",
        "plt.ylabel('loss')\n",
        "plt.xlabel('epoch')\n",
        "plt.legend(['train', 'test'], loc='upper left')\n",
        "plt.show()"
      ],
      "execution_count": 0,
      "outputs": [
        {
          "output_type": "display_data",
          "data": {
            "image/png": "[encoded data removed]",
            "text/plain": [
              "<Figure size 432x288 with 1 Axes>"
            ]
          },
          "metadata": {
            "tags": []
          }
        },
        {
          "output_type": "display_data",
          "data": {
            "image/png": "[encoded data removed]",
            "text/plain": [
              "<Figure size 432x288 with 1 Axes>"
            ]
          },
          "metadata": {
            "tags": []
          }
        }
      ]
    },
    {
      "cell_type": "markdown",
      "metadata": {
        "id": "yX2plCgC9m3O",
        "colab_type": "text"
      },
      "source": [
        "Code to save the model somewhere in colab.  \n",
        "For me, I saved it directly into my google drive. I suggest you add your own custom name inorder to distinguish between them.\n"
      ]
    },
    {
      "cell_type": "code",
      "metadata": {
        "id": "sT4Oe5Wv4ADy",
        "colab_type": "code",
        "colab": {}
      },
      "source": [
        "model_final.save('gdrive/My Drive/DSTA/saved_model.h5')"
      ],
      "execution_count": 0,
      "outputs": []
    },
    {
      "cell_type": "markdown",
      "metadata": {
        "id": "LIIzMqIH3uNY",
        "colab_type": "text"
      },
      "source": [
        "# Final thoughts and improvements\n"
      ]
    },
    {
      "cell_type": "markdown",
      "metadata": {
        "id": "NSh8Sg8p-cVG",
        "colab_type": "text"
      },
      "source": [
        "Additional stuff you can do.  \n",
        "\n",
        "\n",
        "1.   Plot the confusion matrix to see what classes are being classified wrongly more often\n",
        "2.   Try out different learning rates and compare them. (I'll leave that up to you)\n",
        "\n",
        "Code for plotting the confusion matrix is below.  \n",
        "\n",
        "The first block is for loading the model, the second block is the function used to plot the matrix and the last block is the code used to get the data to plot and to plot the matrix.  \n",
        "\n",
        "Things to note:\n",
        "\n",
        "*  The model you are using to predict and get a confusion matrix out of has to be loaded in the variable model, look at the first block of code for an example.\n",
        "*  target_names has to be changed according to your dataset\n",
        "*  Size of the confusion matrix can be set using the figsize parameter in plt.figure\n",
        "*  In the ImageDataGenerator for the val_generator, the parameter shuffle has to False (I have included the code in the third block to reset the val_generator)\n",
        "*  To set up the predictions properly, do take a look at the parameters passed to the predict_generator method in keras\n",
        "* You can choose to normalise your results in the confusion matrix with the parameter, normalise = True (default is False)\n",
        "* You can change how many images, batch size and steps is used to plot the confusion matrix on\n",
        "* Be careful of the location of directories used\n",
        "* You can change alot of stuff, so be careful and try and understand the code. If all else fails, look for the documentation of each method/module used. Check what their outputs are, what parameters they require and what inputs they require.\n",
        "\n",
        "There is not much else I can say in this section as I did not really experiment with the paramters much and I do not fully understand how the methods work while at the same time, writing out what I do understand and commenting it is too much work for me.  \n",
        "\n",
        "Therefore I can only leave it to you and your googling skills to solve any problems you encounter.\n",
        "\n",
        "\n",
        "---\n",
        "\n",
        "<br>\n",
        "\n",
        "\n",
        "**Lastly I want to say thank you taking the time to read through this code I haphazardly put together trying to teach myself deep learning and its libraries.(keras)**\n",
        "\n",
        "I had no prior experience to keras or tensorflow before the compeition and some of the way I did things here may not always be the best. However through this expereience of writing this notebook, I had learnt so much about deep learning and how to utilise power libraries such as keras to make a deep learning model.  \n",
        "\n",
        "I sincerly hope that if were like me and are just starting out to learn deep learning, this notebook has been useful for you to kick start your journey to generating a deep learning model for whatever you are doing.  \n",
        "\n",
        "If you want to see what my team in the end for the competition or my experiement with object detection, you can check out their respectives notebooks."
      ]
    },
    {
      "cell_type": "code",
      "metadata": {
        "id": "eAvODUzTXiom",
        "colab_type": "code",
        "colab": {}
      },
      "source": [
        "from keras.models import load_model\n",
        "\n",
        "# change your model path accordingly\n",
        "model_path = 'train_model.hdf5'\n",
        "model = load_model(model_path)"
      ],
      "execution_count": 0,
      "outputs": []
    },
    {
      "cell_type": "code",
      "metadata": {
        "id": "oI4ukenMVKPy",
        "colab_type": "code",
        "colab": {}
      },
      "source": [
        "# function used to plot confusion matrix\n",
        "import itertools\n",
        "def plot_confusion_matrix(cm, classes,\n",
        "                          normalize=False,\n",
        "                          title='Confusion matrix',\n",
        "                          cmap=plt.cm.Blues):\n",
        "\n",
        "#     This function prints and plots the confusion matrix.\n",
        "#     Normalization can be applied by setting `normalize=True`.\n",
        "\n",
        "    if normalize:\n",
        "        cm = cm.astype('float') / cm.sum(axis=1)[:, np.newaxis]\n",
        "        print(\"Normalized confusion matrix\")\n",
        "    else:\n",
        "        print('Confusion matrix, without normalization')\n",
        "\n",
        "    print(cm)\n",
        "\n",
        "    plt.imshow(cm, interpolation='nearest', cmap=cmap)\n",
        "    plt.title(title)\n",
        "    plt.colorbar()\n",
        "    tick_marks = np.arange(len(classes))\n",
        "    plt.xticks(tick_marks, classes, rotation=45)\n",
        "    plt.yticks(tick_marks, classes)\n",
        "\n",
        "    fmt = '.2f' if normalize else 'd'\n",
        "    thresh = cm.max() / 2.\n",
        "    for i, j in itertools.product(range(cm.shape[0]), range(cm.shape[1])):\n",
        "        plt.text(j, i, format(cm[i, j], fmt),\n",
        "                 horizontalalignment=\"center\",\n",
        "                 color=\"white\" if cm[i, j] > thresh else \"black\")\n",
        "\n",
        "    plt.ylabel('True label')\n",
        "    plt.xlabel('Predicted label')\n",
        "    plt.tight_layout()"
      ],
      "execution_count": 0,
      "outputs": []
    },
    {
      "cell_type": "code",
      "metadata": {
        "id": "IcmRhTYG-g9w",
        "colab_type": "code",
        "outputId": "f2a77973-9bc7-417c-af80-d4a39c2d8ef1",
        "colab": {
          "base_uri": "https://localhost:8080/",
          "height": 1464
        }
      },
      "source": [
        "# Flow validation images in batches of 32 using val_datagen generator\n",
        "print(\"Preparing new generator of validation dataset for plotting confusion matrix.\", '\\n')\n",
        "val_generator = val_datagen.flow_from_directory(\n",
        "    directory= val_folder, \n",
        "    target_size=image_size,\n",
        "    batch_size=bs,\n",
        "    class_mode=None,\n",
        "    shuffle=False)\n",
        "\n",
        "Y_pred = model.predict_generator(val_generator, val_generator.samples // val_generator.batch_size+1)\n",
        "y_pred = np.argmax(Y_pred, axis=1)\n",
        "print('Accuracy')\n",
        "print(accuracy_score(val_generator.classes, y_pred), '\\n')\n",
        "print('Classification Report')\n",
        "target_names = ['ChairPose', 'ChestBump', 'ChildPose', 'Dabbing', 'EaglePose', 'HandGun', 'HandShake', 'HighKneel', 'HulkSmash', 'KoreanHeart', 'KungfuCrane', 'KungfuSalute', 'Salute', 'Spiderman', 'WarriorPose']\n",
        "print(classification_report(val_generator.classes, y_pred, target_names=target_names))\n",
        "\n",
        "\n",
        "# Compute confusion matrix\n",
        "cnf_matrix = confusion_matrix(val_generator.classes, y_pred)\n",
        "np.set_printoptions(precision=1)\n",
        "\n",
        "# Plot non-normalized confusion matrix\n",
        "plt.figure(figsize=(10, 10))\n",
        "plot_confusion_matrix(cnf_matrix, classes=target_names,\n",
        "                      title='Confusion matrix of validation', normalize=True)\n"
      ],
      "execution_count": 0,
      "outputs": [
        {
          "output_type": "stream",
          "text": [
            "Preparing new generator of validation dataset for plotting confusion matrix. \n",
            "\n",
            "Found 347 images belonging to 15 classes.\n",
            "Accuracy\n",
            "0.41786743515850144 \n",
            "\n",
            "Classification Report\n",
            "              precision    recall  f1-score   support\n",
            "\n",
            "   ChairPose       0.37      0.70      0.48        23\n",
            "   ChestBump       0.79      0.65      0.71        17\n",
            "   ChildPose       1.00      0.32      0.48        22\n",
            "     Dabbing       0.41      0.61      0.49        23\n",
            "   EaglePose       0.50      0.30      0.37        27\n",
            "     HandGun       0.27      0.12      0.16        26\n",
            "   HandShake       0.55      0.57      0.56        21\n",
            "   HighKneel       0.42      0.92      0.58        24\n",
            "   HulkSmash       0.33      0.17      0.22        24\n",
            " KoreanHeart       0.82      0.41      0.55        22\n",
            " KungfuCrane       0.19      0.19      0.19        21\n",
            "KungfuSalute       0.35      0.44      0.39        25\n",
            "      Salute       0.40      0.58      0.47        24\n",
            "   Spiderman       0.17      0.12      0.14        26\n",
            " WarriorPose       0.35      0.32      0.33        22\n",
            "\n",
            "    accuracy                           0.42       347\n",
            "   macro avg       0.46      0.43      0.41       347\n",
            "weighted avg       0.45      0.42      0.40       347\n",
            "\n",
            "Normalized confusion matrix\n",
            "[[0.7 0.  0.  0.1 0.  0.  0.  0.1 0.  0.  0.  0.  0.  0.  0. ]\n",
            " [0.1 0.6 0.  0.  0.  0.1 0.  0.  0.1 0.  0.  0.1 0.1 0.  0.1]\n",
            " [0.  0.  0.3 0.  0.  0.  0.  0.4 0.  0.  0.  0.  0.  0.1 0. ]\n",
            " [0.  0.  0.  0.6 0.  0.  0.  0.  0.  0.  0.1 0.  0.1 0.  0.1]\n",
            " [0.2 0.  0.  0.  0.3 0.  0.  0.  0.  0.  0.  0.1 0.2 0.  0. ]\n",
            " [0.  0.  0.  0.  0.  0.1 0.1 0.2 0.  0.  0.  0.3 0.  0.2 0. ]\n",
            " [0.  0.  0.  0.  0.  0.  0.6 0.2 0.  0.  0.  0.  0.  0.1 0. ]\n",
            " [0.  0.  0.  0.  0.  0.  0.  0.9 0.  0.  0.  0.  0.  0.  0. ]\n",
            " [0.1 0.  0.  0.1 0.1 0.  0.  0.  0.2 0.  0.2 0.1 0.  0.1 0.1]\n",
            " [0.2 0.  0.  0.1 0.  0.  0.  0.  0.  0.4 0.  0.  0.3 0.  0. ]\n",
            " [0.5 0.  0.  0.  0.  0.  0.  0.  0.  0.  0.2 0.  0.  0.  0.1]\n",
            " [0.  0.  0.  0.1 0.1 0.1 0.  0.1 0.  0.  0.  0.4 0.  0.  0. ]\n",
            " [0.  0.  0.  0.1 0.  0.  0.  0.  0.1 0.  0.  0.  0.6 0.1 0. ]\n",
            " [0.  0.  0.  0.1 0.  0.2 0.2 0.1 0.  0.  0.  0.  0.1 0.1 0. ]\n",
            " [0.1 0.  0.  0.1 0.  0.  0.  0.  0.  0.  0.4 0.  0.  0.  0.3]]\n"
          ],
          "name": "stdout"
        },
        {
          "output_type": "display_data",
          "data": {
            "image/png": "[encoded data removed]",
            "text/plain": [
              "<Figure size 720x720 with 2 Axes>"
            ]
          },
          "metadata": {
            "tags": []
          }
        }
      ]
    }
  ]
}